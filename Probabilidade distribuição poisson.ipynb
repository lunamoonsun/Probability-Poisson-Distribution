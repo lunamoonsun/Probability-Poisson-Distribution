{
 "cells": [
  {
   "cell_type": "markdown",
   "id": "4494bf87",
   "metadata": {},
   "source": [
    "# Probabilidade - Distribuição de Poisson "
   ]
  },
  {
   "cell_type": "code",
   "execution_count": 5,
   "id": "4158f2f5",
   "metadata": {},
   "outputs": [],
   "source": [
    "import math\n",
    "from scipy import stats"
   ]
  },
  {
   "cell_type": "markdown",
   "id": "6eaec111",
   "metadata": {},
   "source": [
    "Éssa probabilidade é usual para distribuição de números discretos (1,2,3,4,5...)"
   ]
  },
  {
   "cell_type": "markdown",
   "id": "73c24a01",
   "metadata": {},
   "source": [
    "- Ocorrencia de eventos ao decorrer no tempo (Não considera o número de experimentos), baseado em fator temporais;\n",
    "- Eventos independentes;\n",
    "- Considera o numero de \"sucessos\" baseado no tempo."
   ]
  },
  {
   "cell_type": "markdown",
   "id": "d933e88a",
   "metadata": {},
   "source": [
    "Exemplo: O número médio de carros vendidos por dia é 10. Qual a probabilidade de vender 14 carros amanhã?"
   ]
  },
  {
   "cell_type": "code",
   "execution_count": 2,
   "id": "cc237266",
   "metadata": {},
   "outputs": [],
   "source": [
    "x = 14\n",
    "media = 10"
   ]
  },
  {
   "cell_type": "code",
   "execution_count": 3,
   "id": "73066134",
   "metadata": {},
   "outputs": [
    {
     "data": {
      "text/plain": [
       "2.718281828459045"
      ]
     },
     "execution_count": 3,
     "metadata": {},
     "output_type": "execute_result"
    }
   ],
   "source": [
    "math.e"
   ]
  },
  {
   "cell_type": "code",
   "execution_count": 4,
   "id": "c1785940",
   "metadata": {},
   "outputs": [
    {
     "data": {
      "text/plain": [
       "0.05207710444602621"
      ]
     },
     "execution_count": 4,
     "metadata": {},
     "output_type": "execute_result"
    }
   ],
   "source": [
    "math.pow(math.e, -media) * (math.pow(media, x)/math.factorial(x))"
   ]
  },
  {
   "cell_type": "markdown",
   "id": "08c3d755",
   "metadata": {},
   "source": [
    "Nesse caso, a probabilidade de vender 14 carros amanhã é aproximadamente de 5%."
   ]
  },
  {
   "cell_type": "markdown",
   "id": "5fe7e146",
   "metadata": {},
   "source": [
    "Utilizando a bibliotecas do SCIPY:"
   ]
  },
  {
   "cell_type": "code",
   "execution_count": 6,
   "id": "79104149",
   "metadata": {},
   "outputs": [
    {
     "data": {
      "text/plain": [
       "0.05207710444602615"
      ]
     },
     "execution_count": 6,
     "metadata": {},
     "output_type": "execute_result"
    }
   ],
   "source": [
    "stats.poisson.pmf(x, media)"
   ]
  },
  {
   "cell_type": "markdown",
   "id": "b5afc9a0",
   "metadata": {},
   "source": [
    "# Exercícios"
   ]
  },
  {
   "cell_type": "markdown",
   "id": "bbe213d1",
   "metadata": {},
   "source": [
    "Em uma linha de produção de uma fábrica de parafusos, a probabilidade é de obter 0.05 defeitos por unidade. Qual a probabilidade de uma unidade apresentar:\n",
    "- Um defeito\n",
    "- Nenhum defeito"
   ]
  },
  {
   "cell_type": "markdown",
   "id": "11945a83",
   "metadata": {},
   "source": [
    "Um defeito:"
   ]
  },
  {
   "cell_type": "code",
   "execution_count": 7,
   "id": "71a384bc",
   "metadata": {},
   "outputs": [],
   "source": [
    "x = 1 \n",
    "media = 0.05"
   ]
  },
  {
   "cell_type": "code",
   "execution_count": 8,
   "id": "18cd6802",
   "metadata": {},
   "outputs": [
    {
     "data": {
      "text/plain": [
       "0.04756147122503571"
      ]
     },
     "execution_count": 8,
     "metadata": {},
     "output_type": "execute_result"
    }
   ],
   "source": [
    "stats.poisson.pmf(x, media)"
   ]
  },
  {
   "cell_type": "markdown",
   "id": "31d8ceee",
   "metadata": {},
   "source": [
    "Probabilidade de apresentar um defeito é 4% aproximadamente."
   ]
  },
  {
   "cell_type": "markdown",
   "id": "1ebff307",
   "metadata": {},
   "source": [
    "Nenhum defeito:\n"
   ]
  },
  {
   "cell_type": "code",
   "execution_count": 9,
   "id": "178eacfb",
   "metadata": {},
   "outputs": [],
   "source": [
    "x = 0 \n",
    "media = 0.05"
   ]
  },
  {
   "cell_type": "code",
   "execution_count": 10,
   "id": "7c2b410a",
   "metadata": {},
   "outputs": [
    {
     "data": {
      "text/plain": [
       "0.951229424500714"
      ]
     },
     "execution_count": 10,
     "metadata": {},
     "output_type": "execute_result"
    }
   ],
   "source": [
    "stats.poisson.pmf(x, media)"
   ]
  },
  {
   "cell_type": "markdown",
   "id": "68c28ff1",
   "metadata": {},
   "source": [
    "A probabilidade de apresentar nenhum defeito é de aproximadamente 5%."
   ]
  },
  {
   "cell_type": "markdown",
   "id": "67d58605",
   "metadata": {},
   "source": [
    "Um vendedor de uma loja vende em média 50 produtos por dia. Qual é a probabilidade de vender somente 5 produtos no próximo dia?"
   ]
  },
  {
   "cell_type": "code",
   "execution_count": 12,
   "id": "bdbbb4ff",
   "metadata": {},
   "outputs": [],
   "source": [
    "x = 5\n",
    "media = 50"
   ]
  },
  {
   "cell_type": "code",
   "execution_count": 14,
   "id": "4c8bc9b7",
   "metadata": {},
   "outputs": [
    {
     "data": {
      "text/plain": [
       "5.02278606240605e-16"
      ]
     },
     "execution_count": 14,
     "metadata": {},
     "output_type": "execute_result"
    }
   ],
   "source": [
    "stats.poisson.pmf(x,media)"
   ]
  },
  {
   "cell_type": "markdown",
   "id": "c61c1a74",
   "metadata": {},
   "source": [
    "A probabilidade disso ocorrer é minúscula, de acordo com o cálculo é 5.02x10^-16. "
   ]
  },
  {
   "cell_type": "code",
   "execution_count": null,
   "id": "5c889c82",
   "metadata": {},
   "outputs": [],
   "source": []
  }
 ],
 "metadata": {
  "kernelspec": {
   "display_name": "Python 3",
   "language": "python",
   "name": "python3"
  },
  "language_info": {
   "codemirror_mode": {
    "name": "ipython",
    "version": 3
   },
   "file_extension": ".py",
   "mimetype": "text/x-python",
   "name": "python",
   "nbconvert_exporter": "python",
   "pygments_lexer": "ipython3",
   "version": "3.8.8"
  }
 },
 "nbformat": 4,
 "nbformat_minor": 5
}
